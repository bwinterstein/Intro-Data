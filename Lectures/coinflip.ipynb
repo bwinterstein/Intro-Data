{
 "cells": [
  {
   "cell_type": "code",
   "execution_count": 1,
   "id": "264ef519",
   "metadata": {},
   "outputs": [],
   "source": [
    "from datascience import *\n",
    "import numpy as np\n",
    "\n",
    "%matplotlib inline\n",
    "import matplotlib.pyplot as plots\n",
    "plots.style.use('fivethirtyeight')\n",
    "import warnings\n",
    "#warnings.simplefilter(action='ignore', category=np.VisibleDeprecationWarning)"
   ]
  },
  {
   "cell_type": "markdown",
   "id": "275d8df3",
   "metadata": {},
   "source": [
    "# Generating a Histogram of Coin Flips\n",
    "\n",
    "I claim to have a fair coin. I flipped it 100 times and got a total of 85 heads. Should you doubt that the coin is fair? \\\n",
    "\n",
    "Null Hypothesis: The coin is fair and pure random chance is sufficient to explain the observation (85 heads out of 100 flips).\n",
    "\n",
    "Strategy for exploring the null hypothesis\n",
    "1. Write a function that flips a *fair* coin 100 times and returns the total number of heads. Call this sequence of 100 flips a single experiment.\n",
    "2. Use a for loop to run the experiment many times and gather up all the outcomes into an array.\n",
    "3. Create a single column table containing the outcomes in the array.\n",
    "4. Visualize the outcomes with a histogram."
   ]
  },
  {
   "cell_type": "markdown",
   "id": "d9c44085",
   "metadata": {},
   "source": [
    "# Step 1: Create Function for the Experiment"
   ]
  },
  {
   "cell_type": "code",
   "execution_count": 7,
   "id": "e6d5e8c2",
   "metadata": {},
   "outputs": [],
   "source": [
    "import random\n",
    "def coin_flip_100():\n",
    "    \n",
    "    # initialize a varible to 0 (this is to count the number of heads)\n",
    "    heads = 0\n",
    "    # for loop running 100 times\n",
    "    for i in range(100):\n",
    "        outcome = \"\"\n",
    "        coin_flip = random.choice([1,2])\n",
    "        if coin_flip == 1:\n",
    "            outcome = \"Heads\"\n",
    "            heads += 1\n",
    "        else:\n",
    "            outcome = \"Tails\"\n",
    "            \n",
    "    return heads"
   ]
  },
  {
   "cell_type": "markdown",
   "id": "fabfb3cb",
   "metadata": {},
   "source": [
    "# Step 2: Iterate the experiment many times"
   ]
  },
  {
   "cell_type": "code",
   "execution_count": 12,
   "id": "27f57ddf",
   "metadata": {},
   "outputs": [
    {
     "data": {
      "text/plain": [
       "array([ 46.,  39.,  51.,  49.,  43.,  57.,  50.,  53.,  40.,  48.,  50.,\n",
       "        56.,  56.,  42.,  52.,  52.,  51.,  49.,  53.,  48.,  59.,  49.,\n",
       "        47.,  51.,  43.,  56.,  52.,  50.,  45.,  42.,  44.,  43.,  46.,\n",
       "        54.,  44.,  60.,  53.,  50.,  49.,  47.,  51.,  59.,  51.,  59.,\n",
       "        60.,  48.,  45.,  49.,  55.,  48.,  51.,  41.,  51.,  51.,  44.,\n",
       "        49.,  54.,  49.,  50.,  48.,  56.,  55.,  43.,  51.,  43.,  44.,\n",
       "        60.,  54.,  44.,  61.,  48.,  45.,  53.,  39.,  48.,  46.,  52.,\n",
       "        50.,  55.,  51.,  52.,  48.,  46.,  55.,  43.,  46.,  52.,  57.,\n",
       "        51.,  50.,  47.,  52.,  46.,  53.,  58.,  41.,  50.,  40.,  50.,\n",
       "        58.,  49.,  45.,  43.,  48.,  51.,  42.,  46.,  50.,  45.,  58.,\n",
       "        51.,  57.,  49.,  51.,  56.,  47.,  51.,  44.,  55.,  53.,  56.,\n",
       "        47.,  50.,  49.,  49.,  46.,  48.,  49.,  51.,  51.,  58.,  43.,\n",
       "        51.,  54.,  49.,  55.,  51.,  51.,  51.,  53.,  58.,  52.,  45.,\n",
       "        55.,  57.,  53.,  52.,  49.,  68.,  56.,  57.,  52.,  45.,  41.,\n",
       "        58.,  53.,  56.,  51.,  51.,  52.,  65.,  51.,  43.,  59.,  51.,\n",
       "        45.,  52.,  51.,  55.,  51.,  46.,  60.,  49.,  47.,  53.,  45.,\n",
       "        43.,  49.,  50.,  54.,  55.,  45.,  47.,  43.,  49.,  47.,  35.,\n",
       "        47.,  52.,  51.,  50.,  44.,  56.,  52.,  63.,  52.,  52.,  52.,\n",
       "        59.,  51.,  58.,  55.,  62.,  53.,  53.,  52.,  44.,  60.,  55.,\n",
       "        53.,  51.,  54.,  54.,  47.,  45.,  47.,  54.,  47.,  56.,  44.,\n",
       "        54.,  51.,  56.,  52.,  49.,  47.,  53.,  51.,  54.,  42.,  55.,\n",
       "        44.,  42.,  51.,  55.,  56.,  42.,  52.,  53.,  47.,  62.,  58.,\n",
       "        48.,  42.,  49.,  51.,  50.,  51.,  47.,  48.,  43.,  55.,  50.,\n",
       "        50.,  48.,  60.,  50.,  48.,  50.,  52.,  47.,  57.,  61.,  45.,\n",
       "        57.,  57.,  50.,  46.,  42.,  50.,  47.,  55.,  49.,  57.,  55.,\n",
       "        48.,  43.,  53.,  49.,  52.,  53.,  46.,  59.,  49.,  60.,  51.,\n",
       "        49.,  48.,  52.,  41.,  53.,  48.,  51.,  43.,  53.,  54.,  50.,\n",
       "        47.,  53.,  50.,  50.,  48.,  42.,  50.,  51.,  45.,  58.,  51.,\n",
       "        52.,  54.,  46.,  50.,  56.,  47.,  52.,  57.,  51.,  45.,  48.,\n",
       "        44.,  52.,  46.,  41.,  50.,  52.,  50.,  51.,  55.,  56.,  59.,\n",
       "        51.,  50.,  53.,  48.,  43.,  48.,  50.,  41.,  56.,  43.,  61.,\n",
       "        58.,  48.,  46.,  47.,  43.,  49.,  50.,  43.,  47.,  51.,  54.,\n",
       "        46.,  50.,  48.,  49.,  48.,  53.,  52.,  48.,  57.,  48.,  50.,\n",
       "        45.,  56.,  49.,  41.,  48.,  42.,  53.,  47.,  55.,  48.,  49.,\n",
       "        43.,  47.,  49.,  52.,  49.,  44.,  45.,  45.,  50.,  50.,  51.,\n",
       "        45.,  57.,  54.,  53.,  56.,  55.,  53.,  47.,  48.,  39.,  47.,\n",
       "        55.,  42.,  48.,  45.,  54.,  50.,  49.,  44.,  47.,  56.,  48.,\n",
       "        48.,  44.,  48.,  57.,  47.,  51.,  56.,  57.,  45.,  48.,  51.,\n",
       "        48.,  53.,  58.,  47.,  50.,  42.,  45.,  54.,  55.,  52.,  46.,\n",
       "        43.,  52.,  47.,  56.,  45.,  54.,  50.,  48.,  60.,  50.,  46.,\n",
       "        56.,  45.,  42.,  56.,  55.,  55.,  45.,  57.,  53.,  52.,  51.,\n",
       "        51.,  40.,  49.,  51.,  56.,  57.,  48.,  58.,  54.,  54.,  53.,\n",
       "        42.,  52.,  44.,  46.,  47.,  64.,  53.,  54.,  56.,  53.,  42.,\n",
       "        51.,  48.,  42.,  55.,  45.,  42.,  46.,  49.,  54.,  50.,  49.,\n",
       "        47.,  55.,  47.,  50.,  48.,  52.,  54.,  43.,  48.,  48.,  60.,\n",
       "        46.,  61.,  51.,  46.,  49.,  45.,  46.,  54.,  53.,  40.,  51.,\n",
       "        43.,  55.,  47.,  64.,  56.,  47.,  49.,  54.,  44.,  48.,  57.,\n",
       "        51.,  44.,  53.,  53.,  42.,  40.,  50.,  50.,  43.,  53.,  43.,\n",
       "        51.,  46.,  51.,  55.,  58.,  53.,  55.,  54.,  50.,  40.,  52.,\n",
       "        53.,  50.,  53.,  53.,  47.,  48.,  41.,  58.,  50.,  50.,  49.,\n",
       "        55.,  54.,  51.,  53.,  48.,  47.,  44.,  46.,  49.,  43.,  48.,\n",
       "        52.,  41.,  55.,  44.,  46.,  52.,  56.,  50.,  58.,  59.,  52.,\n",
       "        53.,  38.,  53.,  55.,  57.,  46.,  48.,  52.,  53.,  42.,  56.,\n",
       "        44.,  56.,  51.,  49.,  44.,  50.,  45.,  46.,  50.,  39.,  49.,\n",
       "        51.,  54.,  40.,  51.,  38.,  46.,  52.,  56.,  60.,  57.,  40.,\n",
       "        49.,  45.,  45.,  54.,  56.,  57.,  45.,  51.,  46.,  37.,  50.,\n",
       "        53.,  45.,  49.,  45.,  42.,  49.,  46.,  52.,  52.,  50.,  57.,\n",
       "        50.,  62.,  53.,  55.,  43.,  55.,  52.,  45.,  51.,  47.,  52.,\n",
       "        43.,  49.,  56.,  49.,  47.,  44.,  47.,  53.,  45.,  52.,  53.,\n",
       "        45.,  52.,  43.,  48.,  58.,  48.,  57.,  46.,  49.,  49.,  55.,\n",
       "        45.,  48.,  39.,  55.,  52.,  46.,  40.,  61.,  54.,  51.,  50.,\n",
       "        52.,  62.,  58.,  54.,  50.,  48.,  44.,  51.,  55.,  53.,  53.,\n",
       "        59.,  45.,  49.,  49.,  57.,  54.,  46.,  51.,  44.,  45.,  52.,\n",
       "        55.,  51.,  53.,  53.,  50.,  55.,  46.,  54.,  41.,  42.,  51.,\n",
       "        50.,  52.,  56.,  55.,  54.,  52.,  61.,  55.,  43.,  55.,  48.,\n",
       "        51.,  52.,  54.,  53.,  46.,  45.,  52.,  51.,  45.,  48.,  47.,\n",
       "        51.,  40.,  46.,  46.,  44.,  47.,  54.,  50.,  46.,  52.,  60.,\n",
       "        51.,  50.,  56.,  48.,  58.,  46.,  49.,  45.,  51.,  51.,  46.,\n",
       "        52.,  47.,  45.,  47.,  55.,  48.,  55.,  48.,  59.,  46.,  44.,\n",
       "        53.,  49.,  42.,  42.,  57.,  58.,  44.,  42.,  46.,  45.,  52.,\n",
       "        58.,  55.,  45.,  43.,  40.,  42.,  58.,  53.,  48.,  54.,  44.,\n",
       "        38.,  50.,  52.,  55.,  41.,  51.,  51.,  48.,  48.,  53.,  49.,\n",
       "        54.,  50.,  50.,  52.,  47.,  63.,  43.,  59.,  46.,  53.,  47.,\n",
       "        47.,  41.,  39.,  51.,  46.,  38.,  40.,  54.,  51.,  43.,  52.,\n",
       "        51.,  49.,  49.,  43.,  43.,  53.,  54.,  45.,  48.,  60.,  44.,\n",
       "        54.,  47.,  43.,  46.,  48.,  46.,  51.,  48.,  50.,  54.,  46.,\n",
       "        44.,  51.,  44.,  43.,  51.,  45.,  45.,  49.,  43.,  54.,  52.,\n",
       "        42.,  54.,  51.,  60.,  54.,  50.,  42.,  60.,  48.,  59.,  52.,\n",
       "        53.,  44.,  47.,  48.,  41.,  48.,  50.,  40.,  49.,  50.,  47.,\n",
       "        54.,  42.,  40.,  50.,  50.,  54.,  44.,  42.,  59.,  49.,  43.,\n",
       "        58.,  53.,  57.,  48.,  45.,  48.,  47.,  42.,  54.,  49.,  49.,\n",
       "        54.,  51.,  57.,  44.,  46.,  44.,  39.,  40.,  48.,  49.,  49.,\n",
       "        48.,  44.,  52.,  52.,  58.,  47.,  47.,  46.,  49.,  50.,  48.,\n",
       "        50.,  45.,  51.,  54.,  40.,  55.,  50.,  49.,  56.,  57.,  50.,\n",
       "        49.,  54.,  54.,  49.,  48.,  46.,  44.,  51.,  62.,  61.,  49.,\n",
       "        46.,  49.,  49.,  53.,  46.,  59.,  50.,  44.,  54.,  57.,  58.,\n",
       "        48.,  47.,  50.,  51.,  52.,  56.,  50.,  49.,  46.,  54.,  54.,\n",
       "        55.,  53.,  58.,  45.,  42.,  52.,  50.,  46.,  43.,  43.,  50.,\n",
       "        47.,  47.,  49.,  56.,  48.,  48.,  52.,  56.,  51.,  43.,  56.,\n",
       "        52.,  43.,  61.,  47.,  59.,  52.,  46.,  48.,  43.,  45.,  42.,\n",
       "        47.,  45.,  52.,  49.,  55.,  49.,  52.,  51.,  49.,  51.])"
      ]
     },
     "execution_count": 12,
     "metadata": {},
     "output_type": "execute_result"
    }
   ],
   "source": [
    "# initalize an array to empty (this is to gather all the experimental outcomes)\n",
    "outcomes = make_array()\n",
    "# for loop running 1000 times\n",
    "for i in range(1000):\n",
    "    temp = coin_flip_100()\n",
    "    outcomes = np.append(outcomes,temp)\n",
    "    # run the experiment\n",
    "    # append the outcome to the array\n",
    "outcomes"
   ]
  },
  {
   "cell_type": "markdown",
   "id": "701728d8",
   "metadata": {},
   "source": [
    "# Step 3 and 4: Create a table and histogram"
   ]
  },
  {
   "cell_type": "code",
   "execution_count": 15,
   "id": "da39d938",
   "metadata": {},
   "outputs": [
    {
     "data": {
      "image/png": "[encoded data removed]",
      "text/plain": [
       "<Figure size 600x400 with 1 Axes>"
      ]
     },
     "metadata": {},
     "output_type": "display_data"
    }
   ],
   "source": [
    "# Create a blank table and use with_column to load in the array of data\n",
    "outcomes_table = Table().with_columns(\n",
    "    \"Outcomes\", outcomes\n",
    "    )\n",
    "# Create a histogram from the table\n",
    "outcomes_table.hist(\"Outcomes\", bins = 5)"
   ]
  },
  {
   "cell_type": "markdown",
   "id": "0002378f",
   "metadata": {},
   "source": []
  }
 ],
 "metadata": {
  "kernelspec": {
   "display_name": "Python 3",
   "language": "python",
   "name": "python3"
  },
  "language_info": {
   "codemirror_mode": {
    "name": "ipython",
    "version": 3
   },
   "file_extension": ".py",
   "mimetype": "text/x-python",
   "name": "python",
   "nbconvert_exporter": "python",
   "pygments_lexer": "ipython3",
   "version": "3.12.1"
  }
 },
 "nbformat": 4,
 "nbformat_minor": 5
}
